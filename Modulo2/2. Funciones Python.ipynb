{
 "cells": [
  {
   "cell_type": "markdown",
   "metadata": {},
   "source": [
    "# Funciones Python"
   ]
  },
  {
   "cell_type": "markdown",
   "metadata": {},
   "source": [
    "Las funciones son fragmentos de código que se pueden ejecutar múltiples veces, además pueden recibir y devolver información para comunicarse con el proceso principal.\n",
    "\n"
   ]
  },
  {
   "cell_type": "code",
   "execution_count": null,
   "metadata": {},
   "outputs": [],
   "source": [
    "def mi_funcion():\n",
    "    # aquí mi codigo\n",
    "    return NoImplementError"
   ]
  },
  {
   "cell_type": "markdown",
   "metadata": {},
   "source": [
    "Una función, no es ejecutada hasta tanto no sea invocada. Para invocar una función, simplemente se la llama por su nombre:"
   ]
  },
  {
   "cell_type": "code",
   "execution_count": null,
   "metadata": {},
   "outputs": [],
   "source": [
    "# defino mi función\n",
    "def hola():\n",
    "    print(\"Hola Mundo\")"
   ]
  },
  {
   "cell_type": "code",
   "execution_count": null,
   "metadata": {},
   "outputs": [],
   "source": [
    "# llamo mi función\n",
    "hola()"
   ]
  },
  {
   "cell_type": "markdown",
   "metadata": {},
   "source": [
    "Cuando una función, haga un retorno de datos, éstos, pueden ser asignados a una variable:"
   ]
  },
  {
   "cell_type": "code",
   "execution_count": null,
   "metadata": {},
   "outputs": [],
   "source": [
    "#  Función retorna la palabra \"Hola Mundo\"\n",
    "def funcion():\n",
    "    return \"Hola Mundo\"\n",
    "\n",
    "# Almaceno el valor devuelto en una variable\n",
    "frase = funcion()\n",
    "print(frase)"
   ]
  },
  {
   "cell_type": "markdown",
   "metadata": {},
   "source": [
    "## Función con Parámetros\n",
    "-----------------------------------"
   ]
  },
  {
   "cell_type": "markdown",
   "metadata": {},
   "source": [
    "<b>Un parámetro es un valor que la función espera recibir cuando sea llamada (invocada), a fin de ejecutar acciones en base al mismo.</b> Una función puede esperar uno o más parámetros (que irán separados por una coma) o ninguno.\n"
   ]
  },
  {
   "cell_type": "code",
   "execution_count": null,
   "metadata": {},
   "outputs": [],
   "source": [
    "def mi_funcion(nombre, apellido):\n",
    "    # algoritmo \n",
    "    pass"
   ]
  },
  {
   "cell_type": "markdown",
   "metadata": {},
   "source": [
    "Los parámetros que una función espera, serán utilizados por ésta, dentro de su algoritmo, a modo de variables de <b>ámbito local</b>. Es decir, que los parámetros serán variables locales, a las cuáles solo la función podrá acceder:\n"
   ]
  },
  {
   "cell_type": "code",
   "execution_count": null,
   "metadata": {},
   "outputs": [],
   "source": [
    "# Ejemplo función con parámetros\n",
    "def mi_funcion(nombre, apellido,dni):\n",
    "    nombre_completo = f'{apellido}-{nombre}-{dni}'\n",
    "    print(nombre_completo)"
   ]
  },
  {
   "cell_type": "code",
   "execution_count": null,
   "metadata": {},
   "outputs": [],
   "source": [
    "mi_funcion('gonzalo','delgado')"
   ]
  },
  {
   "cell_type": "code",
   "execution_count": null,
   "metadata": {},
   "outputs": [],
   "source": [
    "mi_funcion()"
   ]
  },
  {
   "cell_type": "code",
   "execution_count": null,
   "metadata": {},
   "outputs": [],
   "source": [
    "# Ejemplo 2\n",
    "def suma(numero1, numero2):  # valores que se reciben\n",
    "    return numero1 + numero2\n",
    "\n",
    "a=suma(1,2)\n",
    "b=suma(2,3)"
   ]
  },
  {
   "cell_type": "code",
   "execution_count": null,
   "metadata": {},
   "outputs": [],
   "source": [
    "a = 5\n",
    "b = 6\n",
    "\n",
    "resultado = suma(a, b)  # valores que se envían\n",
    "print(resultado)"
   ]
  },
  {
   "cell_type": "markdown",
   "metadata": {},
   "source": [
    "Cuando pasamos parámetros a nuestra función, esta entiende cada valor por la posición en que se ha descrito en la función"
   ]
  },
  {
   "cell_type": "code",
   "execution_count": null,
   "metadata": {},
   "outputs": [],
   "source": [
    "# Ejemplo3\n",
    "def resta(a, b):\n",
    "    return a - b\n",
    "\n",
    "# argumento 30 => posición 0 => parámetro a\n",
    "# argumento 10 => posición 1 => parámetro b\n",
    "resta(10, 30)"
   ]
  },
  {
   "cell_type": "markdown",
   "metadata": {},
   "source": [
    "Una forma de cambiar el orden en como entiende la función en que orden queremos pasar los parámetros es la siguiente:"
   ]
  },
  {
   "cell_type": "code",
   "execution_count": null,
   "metadata": {},
   "outputs": [],
   "source": [
    "print(resta(100,10))\n",
    "resta(b=100, a=10)"
   ]
  },
  {
   "cell_type": "code",
   "execution_count": null,
   "metadata": {},
   "outputs": [],
   "source": [
    "resta(b=100)"
   ]
  },
  {
   "cell_type": "markdown",
   "metadata": {},
   "source": [
    "## Valores por Defecto"
   ]
  },
  {
   "cell_type": "markdown",
   "metadata": {},
   "source": []
  },
  {
   "cell_type": "markdown",
   "metadata": {},
   "source": [
    "Es posible colocar valores por defecto en nuestras funciones, asi si no se pasa un parámetro, nuestra función seguira funcionando"
   ]
  },
  {
   "cell_type": "code",
   "execution_count": null,
   "metadata": {},
   "outputs": [],
   "source": [
    "def bar(x=2):\n",
    "    return x + 90\n",
    "\n",
    "# my_var = 3\n",
    "print(bar())\n",
    "\n",
    "\n",
    "def getIgv(monto,x=18):\n",
    "    return (monto*x)/100\n",
    "\n",
    "igvCompra=getIgv(1000)\n",
    "igvPremio=getIgv(1000,30)\n",
    "\n",
    "print(igvCompra,'=>',igvPremio)\n"
   ]
  },
  {
   "cell_type": "code",
   "execution_count": null,
   "metadata": {},
   "outputs": [],
   "source": [
    "# pasando un valor a mi funcion\n",
    "print(bar(6))"
   ]
  },
  {
   "cell_type": "markdown",
   "metadata": {},
   "source": [
    "## Desempaquetado de datos"
   ]
  },
  {
   "cell_type": "markdown",
   "metadata": {},
   "source": [
    "Muchas veces se utilizan listas , tuplas o diccionarios para contener diversa cantidad de datos. En ese sentido, es posible desempaquetar los valores contenidos en este tipo de datos para que puedan ser leidos por la funcion"
   ]
  },
  {
   "cell_type": "markdown",
   "metadata": {},
   "source": [
    "### Args"
   ]
  },
  {
   "cell_type": "markdown",
   "metadata": {},
   "source": [
    "Cuando no se sabe la cantidad de valores"
   ]
  },
  {
   "cell_type": "code",
   "execution_count": null,
   "metadata": {},
   "outputs": [],
   "source": [
    "def indeterminados_posicion(*args):\n",
    "    for arg in args:\n",
    "        print(arg)\n",
    "\n",
    "indeterminados_posicion(5,\"Hola\",[1,2,3,4,5],{'dia':'sabado'})"
   ]
  },
  {
   "cell_type": "markdown",
   "metadata": {},
   "source": [
    "Cuando se tiene los valores en lista"
   ]
  },
  {
   "cell_type": "code",
   "execution_count": null,
   "metadata": {},
   "outputs": [],
   "source": [
    "# valores a ser sumados se encuentran en una lista\n",
    "def sumar(a,b):\n",
    "    return a+b\n",
    "\n",
    "# lista con valores a ser sumados\n",
    "numeros_sumar=[23,11]\n",
    "\n",
    "print(sumar(*numeros_sumar))\n",
    "\n",
    "sumar(numeros_sumar[0],numeros_sumar[1])\n"
   ]
  },
  {
   "cell_type": "code",
   "execution_count": null,
   "metadata": {},
   "outputs": [],
   "source": []
  },
  {
   "cell_type": "markdown",
   "metadata": {},
   "source": [
    "### kwargs"
   ]
  },
  {
   "cell_type": "markdown",
   "metadata": {},
   "source": [
    "Cuando no se sabe la cantidad de valores"
   ]
  },
  {
   "cell_type": "code",
   "execution_count": null,
   "metadata": {},
   "outputs": [],
   "source": [
    "def indeterminados_nombre(**kwargs):\n",
    "    for kwarg in kwargs:\n",
    "        print(kwarg, \"=>\", kwargs[kwarg])\n",
    "\n",
    "indeterminados_nombre(n=5, c=\"Hola\", l=[1,2,3,4,5])   "
   ]
  },
  {
   "cell_type": "markdown",
   "metadata": {},
   "source": [
    "Valores contenidos en diccionario"
   ]
  },
  {
   "cell_type": "code",
   "execution_count": null,
   "metadata": {},
   "outputs": [],
   "source": [
    "def calcular(importe, descuento):\n",
    "    return importe * (1 - descuento / 100) \n",
    "\n",
    "datos = {\n",
    "    \"descuento\": 10, \n",
    "    \"importe\": 1500\n",
    "        }\n",
    "\n",
    "print(calcular(**datos))"
   ]
  },
  {
   "cell_type": "code",
   "execution_count": null,
   "metadata": {},
   "outputs": [],
   "source": [
    "calcular(datos['importe'], datos['descuento'])"
   ]
  },
  {
   "cell_type": "markdown",
   "metadata": {},
   "source": [
    "Combinando ambos conceptos"
   ]
  },
  {
   "cell_type": "code",
   "execution_count": null,
   "metadata": {},
   "outputs": [],
   "source": [
    "def super_funcion(*args,**kwargs):\n",
    "    total = 0\n",
    "    for arg in args:\n",
    "        total += arg\n",
    "    print(\"sumatorio => \", total)\n",
    "    \n",
    "    for kwarg in kwargs:\n",
    "        print(kwarg, \"=>\", kwargs[kwarg])\n",
    "\n",
    "super_funcion(10, 50, -1, 1.56, 10, 20, 300,*[20,30], nombre=\"Hector\", edad=27,**{'sueldo':1200})"
   ]
  },
  {
   "cell_type": "code",
   "execution_count": null,
   "metadata": {},
   "outputs": [],
   "source": []
  },
  {
   "cell_type": "code",
   "execution_count": null,
   "metadata": {},
   "outputs": [],
   "source": [
    "datos_persona ={\n",
    "    'nombre':'Gonzalo',\n",
    "    'edad': 26\n",
    "}\n",
    "\n",
    "\"Hola {nombre}, tu edad es {edad}\".format(**datos_persona)"
   ]
  },
  {
   "cell_type": "code",
   "execution_count": null,
   "metadata": {},
   "outputs": [],
   "source": [
    "datos_lista =['Gonzalo', 26]\n",
    "\n",
    "\"Hola {0}, tu edad es {1}\".format(*datos_lista)\n"
   ]
  },
  {
   "cell_type": "markdown",
   "metadata": {},
   "source": [
    "## Paso por valor y referencia\n",
    "-----------------------------------"
   ]
  },
  {
   "cell_type": "markdown",
   "metadata": {},
   "source": [
    "Dependiendo del tipo de dato que enviemos a la función, podemos diferenciar dos comportamientos:\n",
    "\n",
    "- <b>Paso por valor:</b> Se crea una copia local de la variable dentro de la función.\n",
    "- <b>Paso por referencia:</b> Se maneja directamente la variable, los cambios realizados dentro de la función le afectarán también fuera.\n",
    "\n",
    "Tradicionalmente:\n",
    "- <b>Los tipos simples se pasan por valor (Inmutables)</b>: Enteros, flotantes, cadenas, lógicos...\n",
    "- <b>Los tipos compuestos se pasan por referencia (Mutables)</b>: Listas, diccionarios, conjuntos..."
   ]
  },
  {
   "cell_type": "markdown",
   "metadata": {},
   "source": [
    "<center><img src='./img/tipo_dato.PNG' width=\"500\" height=\"500\"></center>"
   ]
  },
  {
   "cell_type": "markdown",
   "metadata": {},
   "source": [
    "## Ámbito de variables en funciones\n",
    "-----------------------------------"
   ]
  },
  {
   "cell_type": "markdown",
   "metadata": {},
   "source": [
    "<center><img src='./img/ambito.PNG'></center>"
   ]
  },
  {
   "cell_type": "markdown",
   "metadata": {},
   "source": [
    "#### Ejemplo"
   ]
  },
  {
   "cell_type": "code",
   "execution_count": null,
   "metadata": {},
   "outputs": [],
   "source": [
    "# valor de variable global 'x' se mantiene\n",
    "x = 7 \n",
    "\n",
    "def foo():   \n",
    "    x = 42\n",
    "    print(x)\n",
    "\n",
    "    \n",
    "#  llamo a la funcion\n",
    "foo()\n",
    "print(x)"
   ]
  },
  {
   "cell_type": "code",
   "execution_count": null,
   "metadata": {},
   "outputs": [],
   "source": [
    "# Global indica que se va a trabar con variable global por lo que cuando redefinimos a la variable, \n",
    "# se cambia el valor global de esta\n",
    " \n",
    "def foo():\n",
    "    global x\n",
    "    x = 42 # reasignacion total x\n",
    "    print('valor de x final', x)\n",
    "    return x\n",
    "    \n",
    "# llamo a la funcion\n",
    "\n",
    "x = 7\n",
    "foo()\n",
    "print(x)"
   ]
  },
  {
   "cell_type": "markdown",
   "metadata": {},
   "source": [
    "## Función Recursivas\n",
    "-----------------------------------"
   ]
  },
  {
   "cell_type": "markdown",
   "metadata": {},
   "source": [
    "Se trata de funciones que se llaman a sí mismas durante su propia ejecución. Funcionan de forma similar a las iteraciones, pero debemos encargarnos de planificar el momento en que dejan de llamarse a sí mismas o tendremos una función rescursiva infinita.\n",
    "\n",
    "Suele utilizarse para dividir una tarea en subtareas más simples de forma que sea más fácil abordar el problema y solucionarlo."
   ]
  },
  {
   "cell_type": "code",
   "execution_count": null,
   "metadata": {},
   "outputs": [],
   "source": [
    "def jugar(intento : int =1 ):\n",
    "    #intento 1\n",
    "    respuesta = input(\"¿De qué color es una naranja? \")\n",
    "    if respuesta.lower() != \"naranja\":\n",
    "        if intento < 3:\n",
    "            print(\"\\nFallaste! Inténtalo de nuevo\")             \n",
    "            #intento=2\n",
    "            #intento=3\n",
    "            intento += 1 \n",
    "            jugar(intento)  # Llamada recursiva         \n",
    "        else:\n",
    "            print(\"\\nPerdiste!\")     \n",
    "    else:\n",
    "        print(\"\\nGanaste!\")"
   ]
  },
  {
   "cell_type": "code",
   "execution_count": null,
   "metadata": {},
   "outputs": [],
   "source": [
    "jugar()"
   ]
  },
  {
   "cell_type": "markdown",
   "metadata": {},
   "source": [
    "# Ejercicios"
   ]
  },
  {
   "cell_type": "markdown",
   "metadata": {},
   "source": [
    "### 1.\n",
    "Realiza una función que indique si un número pasado por parámetro es par o impar."
   ]
  },
  {
   "cell_type": "code",
   "execution_count": 5,
   "metadata": {},
   "outputs": [
    {
     "data": {
      "text/plain": [
       "0"
      ]
     },
     "execution_count": 5,
     "metadata": {},
     "output_type": "execute_result"
    }
   ],
   "source": [
    "78%2"
   ]
  },
  {
   "cell_type": "code",
   "execution_count": 7,
   "metadata": {},
   "outputs": [
    {
     "name": "stdout",
     "output_type": "stream",
     "text": [
      "Numero es par\n"
     ]
    }
   ],
   "source": [
    "def validar_par(num:int):\n",
    "    return num%2\n",
    "\n",
    "numero = 10\n",
    "\n",
    "if validar_par(10)==0:\n",
    "    print('Numero es par')\n",
    "else:\n",
    "    print('Numero es impar')"
   ]
  },
  {
   "cell_type": "code",
   "execution_count": 8,
   "metadata": {},
   "outputs": [
    {
     "name": "stdout",
     "output_type": "stream",
     "text": [
      "El numero es par\n",
      "El número es impar\n"
     ]
    }
   ],
   "source": [
    "def validar_par(numero:int):\n",
    "    if numero%2 == 0:\n",
    "        print('El numero es par')\n",
    "    else:\n",
    "        print('El número es impar')\n",
    "\n",
    "validar_par(20)\n",
    "validar_par(21)"
   ]
  },
  {
   "cell_type": "markdown",
   "metadata": {},
   "source": [
    "### 2.\n",
    "Realiza una función llamada area_rectangulo(base, altura) que devuelva el área del rectangulo a partir de una base y una altura. Calcula el área de un rectángulo de 15 de base y 10 de altura:\n",
    "\n"
   ]
  },
  {
   "cell_type": "code",
   "execution_count": null,
   "metadata": {},
   "outputs": [],
   "source": []
  },
  {
   "cell_type": "markdown",
   "metadata": {},
   "source": [
    "### 3.\n",
    "Realiza una función llamada relacion(a, b) que a partir de dos números cumpla lo siguiente:\n",
    "\n",
    "- Si el primer número es mayor que el segundo, debe devolver 1.\n",
    "- Si el primer número es menor que el segundo, debe devolver -1.\n",
    "- Si ambos números son iguales, debe devolver un 0.\n",
    "\n",
    "Comprueba la relación entre los números: '5 y 10', '10 y 5' y '5 y 5'."
   ]
  },
  {
   "cell_type": "code",
   "execution_count": null,
   "metadata": {},
   "outputs": [],
   "source": []
  },
  {
   "cell_type": "markdown",
   "metadata": {},
   "source": [
    "### 4.\n",
    "El factorial de un número corresponde al producto de todos los números desde 1 hasta el propio número. Es el ejemplo con retorno más utilizado para mostrar la utilidad de este tipo de funciones:\n",
    "\n",
    "- 3! = 1 x 2 x 3 = 6\n",
    "- 5! = 1 x 2 x 3 x 4 x 5 = 120"
   ]
  },
  {
   "cell_type": "code",
   "execution_count": 10,
   "metadata": {},
   "outputs": [
    {
     "data": {
      "text/plain": [
       "120"
      ]
     },
     "execution_count": 10,
     "metadata": {},
     "output_type": "execute_result"
    }
   ],
   "source": [
    "n = int(input('Ingrese el factorial a calcular: '))\n",
    "\n",
    "\n",
    "\n",
    "fact = 1\n",
    "for i in range(1,n+1):\n",
    "    fact = fact *i\n",
    "\n",
    "fact"
   ]
  },
  {
   "cell_type": "code",
   "execution_count": 14,
   "metadata": {},
   "outputs": [
    {
     "name": "stdout",
     "output_type": "stream",
     "text": [
      "720\n"
     ]
    }
   ],
   "source": [
    "def funcion_factorial(n):\n",
    "    fact = 1\n",
    "    for i in range(1,n+1):\n",
    "        fact = fact *i\n",
    "    return fact\n",
    "\n",
    "n = 6\n",
    "if n>=0:\n",
    "    factorial = funcion_factorial(n)\n",
    "    print(factorial)\n",
    "else:\n",
    "    print('No es valido factorial negativo')\n"
   ]
  },
  {
   "cell_type": "markdown",
   "metadata": {},
   "source": [
    "### 5.\n",
    "Sumar los números números naturales hasta N (se lo damos nosotros) de forma recursiva.\n",
    "\n"
   ]
  },
  {
   "cell_type": "code",
   "execution_count": null,
   "metadata": {},
   "outputs": [],
   "source": []
  },
  {
   "cell_type": "markdown",
   "metadata": {},
   "source": [
    "### 6.\n",
    "Implemente un algoritmo, usando una función recursiva, que resuelva la siguiente\n",
    "sumatoria:\n",
    "\n",
    "K(n, p) = p + 2 ∗ p + 3 ∗ p + 4 ∗ p + … + n ∗ p\n",
    "\n",
    "- El programa debe pedir al usuario que ingrese un número n, y un número d,\n",
    "- Luego debe calcular el valor de K(n, p) usando una función recursiva,\n",
    "- Debe imprimir el resultado de K(n, p)\n",
    "\n",
    "Algunos ejemplos de diálogo de este programa serían:\n",
    "\n",
    "- input n: 5\n",
    "- input p: 2\n",
    "- ouput: 30"
   ]
  },
  {
   "cell_type": "code",
   "execution_count": null,
   "metadata": {},
   "outputs": [],
   "source": []
  },
  {
   "cell_type": "markdown",
   "metadata": {},
   "source": [
    "### 7.\n",
    "Escribir una función que, dado un número de DNI, retorne True si el número es válido y False si no lo es. Para que un número de DNI sea válido debe tener entre 7 y 8 dígitos."
   ]
  },
  {
   "cell_type": "code",
   "execution_count": null,
   "metadata": {},
   "outputs": [],
   "source": []
  },
  {
   "cell_type": "code",
   "execution_count": 1,
   "metadata": {},
   "outputs": [],
   "source": [
    "def area_rectangulo(base:int, altura:int):\n",
    "    \"\"\"Calcula el área de un rectangulo según su base y altura\"\"\"\n",
    "    # return -> returno un valor \n",
    "    return base * altura\n"
   ]
  },
  {
   "cell_type": "code",
   "execution_count": 2,
   "metadata": {},
   "outputs": [
    {
     "data": {
      "text/plain": [
       "300"
      ]
     },
     "execution_count": 2,
     "metadata": {},
     "output_type": "execute_result"
    }
   ],
   "source": [
    "area_rectangulo(15, 20)"
   ]
  },
  {
   "cell_type": "code",
   "execution_count": 3,
   "metadata": {},
   "outputs": [
    {
     "data": {
      "text/plain": [
       "10"
      ]
     },
     "execution_count": 3,
     "metadata": {},
     "output_type": "execute_result"
    }
   ],
   "source": [
    "area_rectangulo(5, 2)"
   ]
  },
  {
   "cell_type": "code",
   "execution_count": 4,
   "metadata": {},
   "outputs": [
    {
     "data": {
      "text/plain": [
       "40"
      ]
     },
     "execution_count": 4,
     "metadata": {},
     "output_type": "execute_result"
    }
   ],
   "source": [
    "area_rectangulo(5, 8)"
   ]
  },
  {
   "cell_type": "code",
   "execution_count": 11,
   "metadata": {},
   "outputs": [
    {
     "name": "stdout",
     "output_type": "stream",
     "text": [
      "Cantidad de veces 4 en el número: 3\n"
     ]
    }
   ],
   "source": [
    "num=int(input(\"Ingresa cualquier número: \"))\n",
    "digito=int(input(\"Ingrese un solo dígito: \"))\n",
    "contador=0\n",
    "while num>0:\n",
    "    if digito==num % 10:\n",
    "        contador+=1\n",
    "    num=num//10\n",
    "print(f\"Cantidad de veces {digito} en el número: {contador}\")"
   ]
  }
 ],
 "metadata": {
  "kernelspec": {
   "display_name": "Python 3 (ipykernel)",
   "language": "python",
   "name": "python3"
  },
  "language_info": {
   "codemirror_mode": {
    "name": "ipython",
    "version": 3
   },
   "file_extension": ".py",
   "mimetype": "text/x-python",
   "name": "python",
   "nbconvert_exporter": "python",
   "pygments_lexer": "ipython3",
   "version": "3.10.13"
  }
 },
 "nbformat": 4,
 "nbformat_minor": 4
}
